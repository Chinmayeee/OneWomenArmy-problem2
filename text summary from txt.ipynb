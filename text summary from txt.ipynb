{
 "cells": [
  {
   "cell_type": "code",
   "execution_count": 1,
   "id": "c22ecc47",
   "metadata": {},
   "outputs": [],
   "source": [
    "from nltk.corpus import stopwords\n",
    "from nltk.cluster.util import cosine_distance\n",
    "import numpy as np\n",
    "import networkx as nx\n",
    "import re\n",
    "from datetime import datetime\n",
    "import smtplib\n",
    "from email.mime.multipart import MIMEMultipart\n",
    "from email.mime.text import MIMEText"
   ]
  },
  {
   "cell_type": "code",
   "execution_count": 2,
   "id": "7c8e588a",
   "metadata": {},
   "outputs": [],
   "source": [
    "summarize_text = []"
   ]
  },
  {
   "cell_type": "code",
   "execution_count": 3,
   "id": "38cb23b5",
   "metadata": {},
   "outputs": [],
   "source": [
    "def read_article(file_name):\n",
    "    file = open(file_name, encoding=\"utf-8\")\n",
    "    filedata = file.readlines()\n",
    "    new_lst = [x[:-1] for x in filedata]\n",
    "    sentences = []\n",
    "    i =0;\n",
    "    while(\"\" in new_lst):\n",
    "        new_lst[i] = re.sub(\"[^A-Za-z]\",\"\",new_lst[i])\n",
    "        new_lst.remove(\"\")       \n",
    "        sentences.append(new_lst[i])\n",
    "        i+=1     \n",
    "\n",
    "    return sentences"
   ]
  },
  {
   "cell_type": "code",
   "execution_count": 4,
   "id": "21aaaed7",
   "metadata": {},
   "outputs": [],
   "source": [
    "def sentence_similarity(sent1, sent2, stopwords=None):\n",
    "    if stopwords is None:\n",
    "        stopwords = [\"the\", \"a\", \"an\", \"in\", \"\"]\n",
    "    sent1 = [w.lower() for w in sent1]\n",
    "    sent2 = [w.lower() for w in sent2]\n",
    "    all_words = list(set(sent1 + sent2))\n",
    "    vector1 = [0] * len(all_words)\n",
    "    vector2 = [0] * len(all_words)\n",
    "    # build the vector for the first sentence\n",
    "    for w in sent1:\n",
    "        if w in stopwords:\n",
    "            continue\n",
    "        vector1[all_words.index(w)] += 1\n",
    "    # build the vector for the second sentence\n",
    "    for w in sent2:\n",
    "        if w in stopwords:\n",
    "            continue\n",
    "        vector2[all_words.index(w)] += 1\n",
    "    return 1 - cosine_distance(vector1, vector2)"
   ]
  },
  {
   "cell_type": "code",
   "execution_count": 5,
   "id": "c74db27f",
   "metadata": {},
   "outputs": [],
   "source": [
    "def build_similarity_matrix(sentences, stop_words):\n",
    "    # Create an empty similarity matrix\n",
    "    similarity_matrix = np.zeros((len(sentences), len(sentences)))\n",
    " \n",
    "    for idx1 in range(len(sentences)):\n",
    "        for idx2 in range(len(sentences)):\n",
    "            if idx1 == idx2: #ignore if both are same sentences\n",
    "                continue \n",
    "            similarity_matrix[idx1][idx2] = sentence_similarity(sentences[idx1], sentences[idx2], stop_words)\n",
    "    return similarity_matrix"
   ]
  },
  {
   "cell_type": "code",
   "execution_count": 6,
   "id": "d9407eeb",
   "metadata": {},
   "outputs": [],
   "source": [
    "def generate_summary(file_name, top_n=5):\n",
    "    stop_words = stopwords.words('english')\n",
    "    # Step 1 - Read text and tokenize\n",
    "    sentences =  read_article(file_name)\n",
    "    # Step 2 - Generate Similary Martix across sentences\n",
    "    sentence_similarity_martix = build_similarity_matrix(sentences, stop_words)\n",
    "    # Step 3 - Rank sentences in similarity martix\n",
    "    sentence_similarity_graph = nx.from_numpy_array(sentence_similarity_martix)\n",
    "    scores = nx.pagerank(sentence_similarity_graph)\n",
    "    # Step 4 - Sort the rank and pick top sentences\n",
    "    ranked_sentence = sorted(((scores[i],s) for i,s in enumerate(sentences)), reverse=True)    \n",
    "    #print(\"Indexes of top ranked_sentence order are \", ranked_sentence)\n",
    "    for i in range(top_n):\n",
    "        summarize_text.append(\"\".join(re.sub(r\"(\\w)([A-Z])\", r\"\\1 \\2\", ranked_sentence[i][1])))\n",
    "        \n",
    "    # Step 5 - Offcourse, output the summarize text\n",
    "    print(\"Summarize Text: \\n\", \".\\n \".join(summarize_text))"
   ]
  },
  {
   "cell_type": "code",
   "execution_count": 7,
   "id": "93198d85",
   "metadata": {},
   "outputs": [
    {
     "name": "stdout",
     "output_type": "stream",
     "text": [
      "Summarize Text: \n",
      " Andrew Knight Justthismonth Andsowearesofortunatetohavesomeonewhoisskilledandhasdeepexpertiseinthistopicandatthesametimesomeonewhoisaskilledcommunicatoraboutthistopic Andsowithoutfurtheradopleasejoinmeinwelcoming Professorlibertythathurt.\n",
      " Paul Mc Cartney Thispicturesunfathomablyhorribleeventisreallywhatsparkedtheworldsdiscussionofthe Syrianrefugeecrisisandonewouldimagine Imeanhowcouldyounotlookatthatphotoandfeelsortofadeeponunbelievablesadnessanditdidincreasedonationsbutnotforverylong.\n",
      " Paul Mc Cartney Thisis Alan Curtis Hesathreeyearold Syrianboywhoinwasfounddrownedona Turkishbeachandhisfamilywere Syrianrefugeesfleeingto Europe.\n",
      " Paul Mc Cartney Hieverybody Thankyou Ithink Ineedtofiremy PRperson Andhaveyou Andrew Thatwasgreat Umdoesthescreen Look Okay Canyouallseeit.\n",
      " Paul Mc Cartney Tryingtosaythatwiththeintroductionof Uber Londonhastaxishavegottenmuchlesssafewellintherereportsofrapeorsexualassaultbytaxis Whenthisheadlinewaswritten\n"
     ]
    }
   ],
   "source": [
    "generate_summary(\"input\\\\Transcript.txt\")"
   ]
  },
  {
   "cell_type": "code",
   "execution_count": 8,
   "id": "bc1fe3ea",
   "metadata": {},
   "outputs": [],
   "source": [
    "mail_body = \"Summarize Text: \".join(summarize_text)"
   ]
  },
  {
   "cell_type": "code",
   "execution_count": 9,
   "id": "2abb0475",
   "metadata": {},
   "outputs": [],
   "source": [
    "username = \"email_id\"\n",
    "password = \"********\"\n",
    "mail_from = \"email_id\"\n",
    "mail_to = \"email_id\"\n",
    "now = datetime.now()\n",
    "mail_subject = \"MoM - \" + now.strftime(\"%m/%d/%Y\")"
   ]
  },
  {
   "cell_type": "code",
   "execution_count": 10,
   "id": "96225b73",
   "metadata": {},
   "outputs": [
    {
     "data": {
      "text/plain": [
       "(221, b'2.0.0 Service closing transmission channel')"
      ]
     },
     "execution_count": 10,
     "metadata": {},
     "output_type": "execute_result"
    }
   ],
   "source": [
    "mimemsg = MIMEMultipart()\n",
    "mimemsg['From']=mail_from\n",
    "mimemsg['To']=mail_to\n",
    "mimemsg['Subject']=mail_subject\n",
    "mimemsg.attach(MIMEText(mail_body, 'plain'))\n",
    "\n",
    "connection = smtplib.SMTP(host='smtp.office365.com', port=587)\n",
    "connection.starttls()\n",
    "connection.login(username,password)\n",
    "connection.send_message(mimemsg)\n",
    "connection.quit()"
   ]
  },
  {
   "cell_type": "code",
   "execution_count": null,
   "id": "0842a654",
   "metadata": {},
   "outputs": [],
   "source": []
  }
 ],
 "metadata": {
  "kernelspec": {
   "display_name": "Python 3 (ipykernel)",
   "language": "python",
   "name": "python3"
  },
  "language_info": {
   "codemirror_mode": {
    "name": "ipython",
    "version": 3
   },
   "file_extension": ".py",
   "mimetype": "text/x-python",
   "name": "python",
   "nbconvert_exporter": "python",
   "pygments_lexer": "ipython3",
   "version": "3.9.12"
  }
 },
 "nbformat": 4,
 "nbformat_minor": 5
}
